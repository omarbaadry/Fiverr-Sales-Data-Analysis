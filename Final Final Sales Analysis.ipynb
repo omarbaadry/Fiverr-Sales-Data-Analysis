{
 "cells": [
  {
   "cell_type": "code",
   "execution_count": 33,
   "id": "14d2b61f",
   "metadata": {},
   "outputs": [],
   "source": [
    "import pandas as pd\n",
    "import numpy as np\n",
    "import pytz\n",
    "from sklearn.cluster import KMeans\n",
    "import matplotlib.pyplot as plt\n",
    "import seaborn as sns\n",
    "from datetime import datetime, timedelta\n",
    "from datetime import datetime, timedelta\n",
    "import time"
   ]
  },
  {
   "cell_type": "code",
   "execution_count": 34,
   "id": "32460d72",
   "metadata": {},
   "outputs": [],
   "source": [
    "df = pd.read_csv('C://Users//dell//OneDrive//Desktop//Data Fiverr//data.csv')"
   ]
  },
  {
   "cell_type": "code",
   "execution_count": 35,
   "id": "e53acb3f",
   "metadata": {},
   "outputs": [
    {
     "data": {
      "text/html": [
       "<div>\n",
       "<style scoped>\n",
       "    .dataframe tbody tr th:only-of-type {\n",
       "        vertical-align: middle;\n",
       "    }\n",
       "\n",
       "    .dataframe tbody tr th {\n",
       "        vertical-align: top;\n",
       "    }\n",
       "\n",
       "    .dataframe thead th {\n",
       "        text-align: right;\n",
       "    }\n",
       "</style>\n",
       "<table border=\"1\" class=\"dataframe\">\n",
       "  <thead>\n",
       "    <tr style=\"text-align: right;\">\n",
       "      <th></th>\n",
       "      <th>ORDER_ID</th>\n",
       "      <th>ORDER_TIME_PST</th>\n",
       "      <th>CITY_DISTRICT_ID</th>\n",
       "      <th>RPTG_AMT</th>\n",
       "      <th>CURRENCY_CD</th>\n",
       "      <th>ORDER_QTY</th>\n",
       "      <th>SHIP_TO_CITY_CD_EN</th>\n",
       "      <th>SHIP_TO_DISTRICT_NAME_EN</th>\n",
       "      <th>ORDER_TIME_CST</th>\n",
       "    </tr>\n",
       "  </thead>\n",
       "  <tbody>\n",
       "    <tr>\n",
       "      <th>0</th>\n",
       "      <td>G0000001198</td>\n",
       "      <td>50127</td>\n",
       "      <td>1</td>\n",
       "      <td>1680.53</td>\n",
       "      <td>RMB</td>\n",
       "      <td>1.0</td>\n",
       "      <td>Xiamen</td>\n",
       "      <td>Jimei District</td>\n",
       "      <td>3:55:27 PM</td>\n",
       "    </tr>\n",
       "    <tr>\n",
       "      <th>1</th>\n",
       "      <td>G0000001469</td>\n",
       "      <td>50127</td>\n",
       "      <td>2</td>\n",
       "      <td>8760.18</td>\n",
       "      <td>RMB</td>\n",
       "      <td>1.0</td>\n",
       "      <td>Xuancheng</td>\n",
       "      <td>Xuanzhou District</td>\n",
       "      <td>3:55:27 PM</td>\n",
       "    </tr>\n",
       "    <tr>\n",
       "      <th>2</th>\n",
       "      <td>G0000000001</td>\n",
       "      <td>50128</td>\n",
       "      <td>3</td>\n",
       "      <td>7875.22</td>\n",
       "      <td>RMB</td>\n",
       "      <td>1.0</td>\n",
       "      <td>Shenyang</td>\n",
       "      <td>Heping District</td>\n",
       "      <td>3:55:28 PM</td>\n",
       "    </tr>\n",
       "    <tr>\n",
       "      <th>3</th>\n",
       "      <td>G0000001999</td>\n",
       "      <td>50132</td>\n",
       "      <td>4</td>\n",
       "      <td>10353.10</td>\n",
       "      <td>RMB</td>\n",
       "      <td>1.0</td>\n",
       "      <td>Hefei</td>\n",
       "      <td>Yaohai District</td>\n",
       "      <td>3:55:32 PM</td>\n",
       "    </tr>\n",
       "    <tr>\n",
       "      <th>4</th>\n",
       "      <td>G0000000002</td>\n",
       "      <td>50132</td>\n",
       "      <td>5</td>\n",
       "      <td>11946.02</td>\n",
       "      <td>RMB</td>\n",
       "      <td>1.0</td>\n",
       "      <td>Yangzhou</td>\n",
       "      <td>Guangling District</td>\n",
       "      <td>3:55:32 PM</td>\n",
       "    </tr>\n",
       "  </tbody>\n",
       "</table>\n",
       "</div>"
      ],
      "text/plain": [
       "      ORDER_ID  ORDER_TIME_PST  CITY_DISTRICT_ID  RPTG_AMT CURRENCY_CD  \\\n",
       "0  G0000001198           50127                 1   1680.53         RMB   \n",
       "1  G0000001469           50127                 2   8760.18         RMB   \n",
       "2  G0000000001           50128                 3   7875.22         RMB   \n",
       "3  G0000001999           50132                 4  10353.10         RMB   \n",
       "4  G0000000002           50132                 5  11946.02         RMB   \n",
       "\n",
       "   ORDER_QTY SHIP_TO_CITY_CD_EN SHIP_TO_DISTRICT_NAME_EN ORDER_TIME_CST  \n",
       "0        1.0             Xiamen           Jimei District     3:55:27 PM  \n",
       "1        1.0          Xuancheng        Xuanzhou District     3:55:27 PM  \n",
       "2        1.0           Shenyang          Heping District     3:55:28 PM  \n",
       "3        1.0              Hefei          Yaohai District     3:55:32 PM  \n",
       "4        1.0           Yangzhou       Guangling District     3:55:32 PM  "
      ]
     },
     "execution_count": 35,
     "metadata": {},
     "output_type": "execute_result"
    }
   ],
   "source": [
    "df.head()"
   ]
  },
  {
   "cell_type": "code",
   "execution_count": 36,
   "id": "f7e8fc3b",
   "metadata": {},
   "outputs": [
    {
     "name": "stdout",
     "output_type": "stream",
     "text": [
      "ORDER_ID                     0\n",
      "ORDER_TIME_PST               0\n",
      "CITY_DISTRICT_ID             0\n",
      "RPTG_AMT                     0\n",
      "CURRENCY_CD                  0\n",
      "ORDER_QTY                   38\n",
      "SHIP_TO_CITY_CD_EN          37\n",
      "SHIP_TO_DISTRICT_NAME_EN    37\n",
      "ORDER_TIME_CST               0\n",
      "dtype: int64\n"
     ]
    }
   ],
   "source": [
    "#NA Values and Blanks\n",
    "print(df.isnull().sum())"
   ]
  },
  {
   "cell_type": "code",
   "execution_count": 37,
   "id": "899f83f4",
   "metadata": {},
   "outputs": [
    {
     "name": "stdout",
     "output_type": "stream",
     "text": [
      "<class 'pandas.core.frame.DataFrame'>\n",
      "RangeIndex: 159750 entries, 0 to 159749\n",
      "Data columns (total 9 columns):\n",
      " #   Column                    Non-Null Count   Dtype  \n",
      "---  ------                    --------------   -----  \n",
      " 0   ORDER_ID                  159750 non-null  object \n",
      " 1   ORDER_TIME_PST            159750 non-null  int64  \n",
      " 2   CITY_DISTRICT_ID          159750 non-null  int64  \n",
      " 3   RPTG_AMT                  159750 non-null  float64\n",
      " 4   CURRENCY_CD               159750 non-null  object \n",
      " 5   ORDER_QTY                 159712 non-null  float64\n",
      " 6   SHIP_TO_CITY_CD_EN        159713 non-null  object \n",
      " 7   SHIP_TO_DISTRICT_NAME_EN  159713 non-null  object \n",
      " 8   ORDER_TIME_CST            159750 non-null  object \n",
      "dtypes: float64(2), int64(2), object(5)\n",
      "memory usage: 11.0+ MB\n",
      "None\n"
     ]
    }
   ],
   "source": [
    "print(df.info())"
   ]
  },
  {
   "cell_type": "code",
   "execution_count": 38,
   "id": "d3e534cc",
   "metadata": {},
   "outputs": [],
   "source": [
    "#Drop N/A and Blanks in ORDER_QTY Column\n",
    "df = df.dropna(subset=['ORDER_QTY'])"
   ]
  },
  {
   "cell_type": "code",
   "execution_count": 39,
   "id": "56681433",
   "metadata": {},
   "outputs": [
    {
     "name": "stdout",
     "output_type": "stream",
     "text": [
      "ORDER_ID                     0\n",
      "ORDER_TIME_PST               0\n",
      "CITY_DISTRICT_ID             0\n",
      "RPTG_AMT                     0\n",
      "CURRENCY_CD                  0\n",
      "ORDER_QTY                    0\n",
      "SHIP_TO_CITY_CD_EN          37\n",
      "SHIP_TO_DISTRICT_NAME_EN    37\n",
      "ORDER_TIME_CST               0\n",
      "dtype: int64\n"
     ]
    }
   ],
   "source": [
    "print(df.isnull().sum())"
   ]
  },
  {
   "cell_type": "code",
   "execution_count": 40,
   "id": "637444fa",
   "metadata": {},
   "outputs": [
    {
     "name": "stdout",
     "output_type": "stream",
     "text": [
      "<class 'pandas.core.frame.DataFrame'>\n",
      "Int64Index: 159712 entries, 0 to 159749\n",
      "Data columns (total 9 columns):\n",
      " #   Column                    Non-Null Count   Dtype  \n",
      "---  ------                    --------------   -----  \n",
      " 0   ORDER_ID                  159712 non-null  object \n",
      " 1   ORDER_TIME_PST            159712 non-null  int64  \n",
      " 2   CITY_DISTRICT_ID          159712 non-null  int64  \n",
      " 3   RPTG_AMT                  159712 non-null  float64\n",
      " 4   CURRENCY_CD               159712 non-null  object \n",
      " 5   ORDER_QTY                 159712 non-null  float64\n",
      " 6   SHIP_TO_CITY_CD_EN        159675 non-null  object \n",
      " 7   SHIP_TO_DISTRICT_NAME_EN  159675 non-null  object \n",
      " 8   ORDER_TIME_CST            159712 non-null  object \n",
      "dtypes: float64(2), int64(2), object(5)\n",
      "memory usage: 12.2+ MB\n",
      "None\n"
     ]
    }
   ],
   "source": [
    "print(df.info())"
   ]
  },
  {
   "cell_type": "code",
   "execution_count": 41,
   "id": "e3020481",
   "metadata": {},
   "outputs": [],
   "source": [
    "# Replace 74 #N/A Cities with Unknown for ID: 999999\n",
    "df['SHIP_TO_CITY_CD_EN'] = df['SHIP_TO_CITY_CD_EN'].replace('#N/A', 'Unknown')"
   ]
  },
  {
   "cell_type": "code",
   "execution_count": 42,
   "id": "75025fa0",
   "metadata": {},
   "outputs": [],
   "source": [
    "# Replace 74 #N/A Districts with Unknown for ID: 999999\n",
    "#df['SHIP_TO_DISTRICT_NAME_EN'] = df['SHIP_TO_DISTRICT_NAME_EN'].replace('#N/A', 'Unknown')"
   ]
  },
  {
   "cell_type": "code",
   "execution_count": 43,
   "id": "667f08fd",
   "metadata": {},
   "outputs": [],
   "source": [
    "#PST Timestamp Conversion\n",
    "#df['ORDER_TIME_PST'] = pd.to_numeric(df['ORDER_TIME_PST'], errors='coerce')"
   ]
  },
  {
   "cell_type": "code",
   "execution_count": 44,
   "id": "dfb1ba6c",
   "metadata": {},
   "outputs": [],
   "source": [
    "#time_offset = timedelta(hours=2)"
   ]
  },
  {
   "cell_type": "code",
   "execution_count": 45,
   "id": "3528022d",
   "metadata": {},
   "outputs": [],
   "source": [
    "#df['ORDER_TIME_PST_days'] = df['ORDER_TIME_PST'] / (60 * 60 * 24)"
   ]
  },
  {
   "cell_type": "code",
   "execution_count": 46,
   "id": "ebdbb470",
   "metadata": {},
   "outputs": [],
   "source": [
    "#df['ORDER_TIME_RESULT'] = pd.to_datetime(df['ORDER_TIME_PST_days'], unit='D') + time_offset\n",
    "#df['ORDER_TIME_RESULT'] = df['ORDER_TIME_RESULT'].dt.strftime('%I:%M:%S %p')"
   ]
  },
  {
   "cell_type": "code",
   "execution_count": 47,
   "id": "0f7682a6",
   "metadata": {},
   "outputs": [],
   "source": [
    "# Convert ORDER_TIME_PST column to integers, handling errors gracefully\n",
    "df['ORDER_TIME_PST'] = pd.to_numeric(df['ORDER_TIME_PST'], errors='coerce', downcast='integer')\n",
    "\n",
    "# Drop rows where conversion failed (NaN values)\n",
    "df.dropna(subset=['ORDER_TIME_PST'], inplace=True)\n",
    "\n",
    "# Convert Unix timestamp to HH:MM:SS format\n",
    "df['ORDER_TIME_PST'] = df['ORDER_TIME_PST'].astype(int)\n",
    "df['ORDER_TIME_PST'] = df['ORDER_TIME_PST'].apply(lambda x: time.strftime(\"%H:%M:%S\", time.gmtime(x)))"
   ]
  },
  {
   "cell_type": "code",
   "execution_count": 48,
   "id": "6d5be7cf",
   "metadata": {},
   "outputs": [],
   "source": [
    "df['ORDER_TIME_PST'] = df['ORDER_TIME_PST'] + timedelta(days=1, hours=-6)"
   ]
  },
  {
   "cell_type": "code",
   "execution_count": 49,
   "id": "a810cb0b",
   "metadata": {},
   "outputs": [],
   "source": [
    "# Convert Duration column to timedelta object\n",
    "df['ORDER_TIME_PST'] = pd.to_timedelta(df['ORDER_TIME_PST'])\n",
    "\n",
    "# Extract time part (HH:MM:SS)\n",
    "df['ORDER_TIME_PST'] = df['ORDER_TIME_PST'].apply(lambda x: str(x)[-8:])  # or .dt.components['hours'],dt.components['minutes'],"
   ]
  },
  {
   "cell_type": "code",
   "execution_count": 50,
   "id": "cb593d33",
   "metadata": {
    "scrolled": true
   },
   "outputs": [
    {
     "data": {
      "text/html": [
       "<div>\n",
       "<style scoped>\n",
       "    .dataframe tbody tr th:only-of-type {\n",
       "        vertical-align: middle;\n",
       "    }\n",
       "\n",
       "    .dataframe tbody tr th {\n",
       "        vertical-align: top;\n",
       "    }\n",
       "\n",
       "    .dataframe thead th {\n",
       "        text-align: right;\n",
       "    }\n",
       "</style>\n",
       "<table border=\"1\" class=\"dataframe\">\n",
       "  <thead>\n",
       "    <tr style=\"text-align: right;\">\n",
       "      <th></th>\n",
       "      <th>ORDER_ID</th>\n",
       "      <th>ORDER_TIME_PST</th>\n",
       "      <th>CITY_DISTRICT_ID</th>\n",
       "      <th>RPTG_AMT</th>\n",
       "      <th>CURRENCY_CD</th>\n",
       "      <th>ORDER_QTY</th>\n",
       "      <th>SHIP_TO_CITY_CD_EN</th>\n",
       "      <th>SHIP_TO_DISTRICT_NAME_EN</th>\n",
       "      <th>ORDER_TIME_CST</th>\n",
       "    </tr>\n",
       "  </thead>\n",
       "  <tbody>\n",
       "    <tr>\n",
       "      <th>0</th>\n",
       "      <td>G0000001198</td>\n",
       "      <td>07:55:27</td>\n",
       "      <td>1</td>\n",
       "      <td>1680.53</td>\n",
       "      <td>RMB</td>\n",
       "      <td>1.0</td>\n",
       "      <td>Xiamen</td>\n",
       "      <td>Jimei District</td>\n",
       "      <td>3:55:27 PM</td>\n",
       "    </tr>\n",
       "    <tr>\n",
       "      <th>1</th>\n",
       "      <td>G0000001469</td>\n",
       "      <td>07:55:27</td>\n",
       "      <td>2</td>\n",
       "      <td>8760.18</td>\n",
       "      <td>RMB</td>\n",
       "      <td>1.0</td>\n",
       "      <td>Xuancheng</td>\n",
       "      <td>Xuanzhou District</td>\n",
       "      <td>3:55:27 PM</td>\n",
       "    </tr>\n",
       "    <tr>\n",
       "      <th>2</th>\n",
       "      <td>G0000000001</td>\n",
       "      <td>07:55:28</td>\n",
       "      <td>3</td>\n",
       "      <td>7875.22</td>\n",
       "      <td>RMB</td>\n",
       "      <td>1.0</td>\n",
       "      <td>Shenyang</td>\n",
       "      <td>Heping District</td>\n",
       "      <td>3:55:28 PM</td>\n",
       "    </tr>\n",
       "    <tr>\n",
       "      <th>3</th>\n",
       "      <td>G0000001999</td>\n",
       "      <td>07:55:32</td>\n",
       "      <td>4</td>\n",
       "      <td>10353.10</td>\n",
       "      <td>RMB</td>\n",
       "      <td>1.0</td>\n",
       "      <td>Hefei</td>\n",
       "      <td>Yaohai District</td>\n",
       "      <td>3:55:32 PM</td>\n",
       "    </tr>\n",
       "    <tr>\n",
       "      <th>4</th>\n",
       "      <td>G0000000002</td>\n",
       "      <td>07:55:32</td>\n",
       "      <td>5</td>\n",
       "      <td>11946.02</td>\n",
       "      <td>RMB</td>\n",
       "      <td>1.0</td>\n",
       "      <td>Yangzhou</td>\n",
       "      <td>Guangling District</td>\n",
       "      <td>3:55:32 PM</td>\n",
       "    </tr>\n",
       "  </tbody>\n",
       "</table>\n",
       "</div>"
      ],
      "text/plain": [
       "      ORDER_ID ORDER_TIME_PST  CITY_DISTRICT_ID  RPTG_AMT CURRENCY_CD  \\\n",
       "0  G0000001198       07:55:27                 1   1680.53         RMB   \n",
       "1  G0000001469       07:55:27                 2   8760.18         RMB   \n",
       "2  G0000000001       07:55:28                 3   7875.22         RMB   \n",
       "3  G0000001999       07:55:32                 4  10353.10         RMB   \n",
       "4  G0000000002       07:55:32                 5  11946.02         RMB   \n",
       "\n",
       "   ORDER_QTY SHIP_TO_CITY_CD_EN SHIP_TO_DISTRICT_NAME_EN ORDER_TIME_CST  \n",
       "0        1.0             Xiamen           Jimei District     3:55:27 PM  \n",
       "1        1.0          Xuancheng        Xuanzhou District     3:55:27 PM  \n",
       "2        1.0           Shenyang          Heping District     3:55:28 PM  \n",
       "3        1.0              Hefei          Yaohai District     3:55:32 PM  \n",
       "4        1.0           Yangzhou       Guangling District     3:55:32 PM  "
      ]
     },
     "execution_count": 50,
     "metadata": {},
     "output_type": "execute_result"
    }
   ],
   "source": [
    "df.head()"
   ]
  },
  {
   "cell_type": "code",
   "execution_count": 51,
   "id": "807204c8",
   "metadata": {},
   "outputs": [],
   "source": [
    "df.drop(columns=['ORDER_TIME_CST'], inplace=True)"
   ]
  },
  {
   "cell_type": "code",
   "execution_count": 52,
   "id": "5f3cfac0",
   "metadata": {},
   "outputs": [],
   "source": [
    "df.rename(columns={'ORDER_TIME_PST': 'ORDER_TIME'}, inplace=True)"
   ]
  },
  {
   "cell_type": "code",
   "execution_count": 53,
   "id": "0a7a870d",
   "metadata": {},
   "outputs": [
    {
     "data": {
      "text/html": [
       "<div>\n",
       "<style scoped>\n",
       "    .dataframe tbody tr th:only-of-type {\n",
       "        vertical-align: middle;\n",
       "    }\n",
       "\n",
       "    .dataframe tbody tr th {\n",
       "        vertical-align: top;\n",
       "    }\n",
       "\n",
       "    .dataframe thead th {\n",
       "        text-align: right;\n",
       "    }\n",
       "</style>\n",
       "<table border=\"1\" class=\"dataframe\">\n",
       "  <thead>\n",
       "    <tr style=\"text-align: right;\">\n",
       "      <th></th>\n",
       "      <th>ORDER_ID</th>\n",
       "      <th>ORDER_TIME</th>\n",
       "      <th>CITY_DISTRICT_ID</th>\n",
       "      <th>RPTG_AMT</th>\n",
       "      <th>CURRENCY_CD</th>\n",
       "      <th>ORDER_QTY</th>\n",
       "      <th>SHIP_TO_CITY_CD_EN</th>\n",
       "      <th>SHIP_TO_DISTRICT_NAME_EN</th>\n",
       "    </tr>\n",
       "  </thead>\n",
       "  <tbody>\n",
       "    <tr>\n",
       "      <th>0</th>\n",
       "      <td>G0000001198</td>\n",
       "      <td>07:55:27</td>\n",
       "      <td>1</td>\n",
       "      <td>1680.53</td>\n",
       "      <td>RMB</td>\n",
       "      <td>1.0</td>\n",
       "      <td>Xiamen</td>\n",
       "      <td>Jimei District</td>\n",
       "    </tr>\n",
       "    <tr>\n",
       "      <th>1</th>\n",
       "      <td>G0000001469</td>\n",
       "      <td>07:55:27</td>\n",
       "      <td>2</td>\n",
       "      <td>8760.18</td>\n",
       "      <td>RMB</td>\n",
       "      <td>1.0</td>\n",
       "      <td>Xuancheng</td>\n",
       "      <td>Xuanzhou District</td>\n",
       "    </tr>\n",
       "    <tr>\n",
       "      <th>2</th>\n",
       "      <td>G0000000001</td>\n",
       "      <td>07:55:28</td>\n",
       "      <td>3</td>\n",
       "      <td>7875.22</td>\n",
       "      <td>RMB</td>\n",
       "      <td>1.0</td>\n",
       "      <td>Shenyang</td>\n",
       "      <td>Heping District</td>\n",
       "    </tr>\n",
       "    <tr>\n",
       "      <th>3</th>\n",
       "      <td>G0000001999</td>\n",
       "      <td>07:55:32</td>\n",
       "      <td>4</td>\n",
       "      <td>10353.10</td>\n",
       "      <td>RMB</td>\n",
       "      <td>1.0</td>\n",
       "      <td>Hefei</td>\n",
       "      <td>Yaohai District</td>\n",
       "    </tr>\n",
       "    <tr>\n",
       "      <th>4</th>\n",
       "      <td>G0000000002</td>\n",
       "      <td>07:55:32</td>\n",
       "      <td>5</td>\n",
       "      <td>11946.02</td>\n",
       "      <td>RMB</td>\n",
       "      <td>1.0</td>\n",
       "      <td>Yangzhou</td>\n",
       "      <td>Guangling District</td>\n",
       "    </tr>\n",
       "  </tbody>\n",
       "</table>\n",
       "</div>"
      ],
      "text/plain": [
       "      ORDER_ID ORDER_TIME  CITY_DISTRICT_ID  RPTG_AMT CURRENCY_CD  ORDER_QTY  \\\n",
       "0  G0000001198   07:55:27                 1   1680.53         RMB        1.0   \n",
       "1  G0000001469   07:55:27                 2   8760.18         RMB        1.0   \n",
       "2  G0000000001   07:55:28                 3   7875.22         RMB        1.0   \n",
       "3  G0000001999   07:55:32                 4  10353.10         RMB        1.0   \n",
       "4  G0000000002   07:55:32                 5  11946.02         RMB        1.0   \n",
       "\n",
       "  SHIP_TO_CITY_CD_EN SHIP_TO_DISTRICT_NAME_EN  \n",
       "0             Xiamen           Jimei District  \n",
       "1          Xuancheng        Xuanzhou District  \n",
       "2           Shenyang          Heping District  \n",
       "3              Hefei          Yaohai District  \n",
       "4           Yangzhou       Guangling District  "
      ]
     },
     "execution_count": 53,
     "metadata": {},
     "output_type": "execute_result"
    }
   ],
   "source": [
    "df.head()"
   ]
  },
  {
   "cell_type": "code",
   "execution_count": 54,
   "id": "855babc7",
   "metadata": {},
   "outputs": [
    {
     "name": "stdout",
     "output_type": "stream",
     "text": [
      "City with the highest per-hour sales:\n",
      "City ID: 999999, Hour: 22:35:34, Sales: 79195.56999999999\n"
     ]
    }
   ],
   "source": [
    "# Check for the presence of required columns\n",
    "required_columns = ['CITY_DISTRICT_ID', 'ORDER_TIME', 'RPTG_AMT']\n",
    "\n",
    "\n",
    "# Ensure 'RPTG_AMT' is numeric and handle missing values\n",
    "df['RPTG_AMT'] = pd.to_numeric(df['RPTG_AMT'], errors='coerce')\n",
    "\n",
    "# Group by city and hour, then sum the sales\n",
    "sales_per_hour = df.groupby(['CITY_DISTRICT_ID', 'ORDER_TIME'])['RPTG_AMT'].sum().reset_index()\n",
    "\n",
    "\n",
    "# Find the city with the highest per-hour sales\n",
    "max_sales = sales_per_hour.loc[sales_per_hour['RPTG_AMT'].idxmax()]\n",
    "\n",
    "# Print the result\n",
    "print(\"City with the highest per-hour sales:\")\n",
    "print(f\"City ID: {max_sales['CITY_DISTRICT_ID']}, Hour: {max_sales['ORDER_TIME']}, Sales: {max_sales['RPTG_AMT']}\")\n"
   ]
  },
  {
   "cell_type": "code",
   "execution_count": 55,
   "id": "fb02ead9",
   "metadata": {},
   "outputs": [
    {
     "name": "stdout",
     "output_type": "stream",
     "text": [
      "City/District with the highest average sales:\n",
      "City/District ID: 2488.0, Average Sales: 23892.04\n"
     ]
    }
   ],
   "source": [
    "# Group by city/district and calculate the average sales\n",
    "average_sales_per_district = df.groupby('CITY_DISTRICT_ID')['RPTG_AMT'].mean().reset_index()\n",
    "\n",
    "# Find the city/district with the highest average sales\n",
    "max_average_sales = average_sales_per_district.loc[average_sales_per_district['RPTG_AMT'].idxmax()]\n",
    "\n",
    "# Print the result\n",
    "print(\"City/District with the highest average sales:\")\n",
    "print(f\"City/District ID: {max_average_sales['CITY_DISTRICT_ID']}, Average Sales: {max_average_sales['RPTG_AMT']}\")\n"
   ]
  },
  {
   "cell_type": "code",
   "execution_count": 56,
   "id": "d0dc8261",
   "metadata": {},
   "outputs": [
    {
     "data": {
      "image/png": "[encoded data removed]",
      "text/plain": [
       "<Figure size 720x432 with 1 Axes>"
      ]
     },
     "metadata": {
      "needs_background": "light"
     },
     "output_type": "display_data"
    },
    {
     "name": "stdout",
     "output_type": "stream",
     "text": [
      "City/Districts clustered into tiers based on sales:\n",
      "      CITY_DISTRICT_ID     RPTG_AMT  Tier\n",
      "2009              2010      1680.53     0\n",
      "2299              2300      1680.53     0\n",
      "2519              2520      1680.53     0\n",
      "2520              2521      1680.53     0\n",
      "2562              2563      1680.53     0\n",
      "...                ...          ...   ...\n",
      "251                252  12838861.15     3\n",
      "176                177  13199379.87     3\n",
      "213                214  18900163.42     4\n",
      "14                  15  26685902.30     4\n",
      "75                  76  26904160.57     4\n",
      "\n",
      "[2583 rows x 3 columns]\n"
     ]
    }
   ],
   "source": [
    "# Group by city/district and calculate the total sales (e.g. lowest spending to highest spending)\n",
    "total_sales_per_district = df.groupby('CITY_DISTRICT_ID')['RPTG_AMT'].sum().reset_index()\n",
    "\n",
    "# Number of clusters\n",
    "n_clusters = 5  # Update with the desired number of tiers\n",
    "\n",
    "# K-Means clustering\n",
    "kmeans = KMeans(n_clusters=n_clusters, random_state=0)\n",
    "total_sales_per_district['Tier'] = kmeans.fit_predict(total_sales_per_district[['RPTG_AMT']])\n",
    "\n",
    "\n",
    "# Calculate the centroid values and sort them\n",
    "centroids = kmeans.cluster_centers_.flatten()\n",
    "sorted_centroid_indices = np.argsort(centroids)\n",
    "\n",
    "# Create a mapping from the original cluster labels to the sorted cluster labels\n",
    "label_mapping = {original_label: sorted_label for sorted_label, original_label in enumerate(sorted_centroid_indices)}\n",
    "\n",
    "# Apply the new labels\n",
    "total_sales_per_district['Tier'] = total_sales_per_district['Tier'].map(label_mapping)\n",
    "\n",
    "# Sort by tier and sales for better visualization\n",
    "total_sales_per_district = total_sales_per_district.sort_values(by=['Tier', 'RPTG_AMT'])\n",
    "\n",
    "# Plot the clusters\n",
    "plt.figure(figsize=(10, 6))\n",
    "for i in range(n_clusters):\n",
    "    cluster_data = total_sales_per_district[total_sales_per_district['Tier'] == i]\n",
    "    plt.scatter(cluster_data['CITY_DISTRICT_ID'], cluster_data['RPTG_AMT'], label=f'Tier {i}')\n",
    "\n",
    "plt.xlabel('City/District ID')\n",
    "plt.ylabel('Total Sales')\n",
    "plt.title('City/District Sales Clustering')\n",
    "plt.legend()\n",
    "plt.show()\n",
    "\n",
    "# Print the result\n",
    "print(\"City/Districts clustered into tiers based on sales:\")\n",
    "print(total_sales_per_district)"
   ]
  },
  {
   "cell_type": "code",
   "execution_count": 57,
   "id": "5d337180",
   "metadata": {},
   "outputs": [
    {
     "name": "stdout",
     "output_type": "stream",
     "text": [
      "        City  Total_Amount  Average_Amount\n",
      "0   Shanghai  1.059861e+08     8602.769750\n",
      "1    Beijing  8.709278e+07     8477.833499\n",
      "2   Hangzhou  5.726757e+07     8767.233371\n",
      "3   Shenzhen  5.135241e+07     8531.717333\n",
      "4     Suzhou  4.345930e+07     8834.986432\n",
      "5    Chengdu  4.105497e+07     8126.479004\n",
      "6    Nanjing  4.091455e+07     8600.913862\n",
      "7      Wuhan  3.930257e+07     8778.774764\n",
      "8  Guangzhou  3.563430e+07     8877.503122\n",
      "9    Tianjin  3.003940e+07     8689.441932\n"
     ]
    }
   ],
   "source": [
    "# Calculate total amount and average amount per city to display top 10 performing cities\n",
    "\n",
    "# Calculate total amount per city\n",
    "city_performance = df.groupby('SHIP_TO_CITY_CD_EN')['RPTG_AMT'].sum().reset_index()\n",
    "city_performance.columns = ['City', 'Total_Amount']\n",
    "\n",
    "# Calculate average amount per city\n",
    "city_performance['Average_Amount'] = df.groupby('SHIP_TO_CITY_CD_EN')['RPTG_AMT'].mean().values\n",
    "\n",
    "# Determine which cities are performing better\n",
    "city_performance_sorted = city_performance.sort_values(by='Total_Amount', ascending=False).reset_index(drop=True)\n",
    "\n",
    "# Get top 10 performing cities\n",
    "top_10_cities = city_performance_sorted.head(10)\n",
    "\n",
    "# Output the result\n",
    "print(top_10_cities)\n"
   ]
  },
  {
   "cell_type": "code",
   "execution_count": 58,
   "id": "55f98e85",
   "metadata": {
    "scrolled": true
   },
   "outputs": [
    {
     "data": {
      "image/png": "[encoded data removed]",
      "text/plain": [
       "<Figure size 720x576 with 2 Axes>"
      ]
     },
     "metadata": {
      "needs_background": "light"
     },
     "output_type": "display_data"
    }
   ],
   "source": [
    "#Identify correlation to location or timing with heatmap\n",
    "\n",
    "# Convert ORDER_TIME_CST to datetime to extract time components, handle errors\n",
    "df['ORDER_TIME'] = pd.to_datetime(df['ORDER_TIME'], errors='coerce')\n",
    "\n",
    "# Extract hour and minute from ORDER_TIME_CST\n",
    "df['ORDER_HOUR'] = df['ORDER_TIME'].dt.hour\n",
    "df['ORDER_MINUTE'] = df['ORDER_TIME'].dt.minute\n",
    "\n",
    "# Calculate correlation matrix\n",
    "correlation_matrix = df[['CITY_DISTRICT_ID', 'ORDER_HOUR', 'ORDER_MINUTE', 'RPTG_AMT']].corr()\n",
    "\n",
    "# Plot heatmap of the correlation matrix\n",
    "plt.figure(figsize=(10, 8))\n",
    "sns.heatmap(correlation_matrix, annot=True, cmap='coolwarm', vmin=-1, vmax=1)\n",
    "plt.title('Correlation Matrix')\n",
    "plt.show()\n",
    "\n",
    "#1 indicates a perfect positive correlation.\n",
    "\n",
    "#Key Variables:\n",
    "#CITY_DISTRICT_ID vs. RPTG_AMT\n",
    "#ORDER_HOUR vs. RPTG_AMT\n",
    "#ORDER_MINUTE vs. RPTG_AMT\n",
    "\n",
    "#High Positive Correlation: If the correlation coefficient between CITY_DISTRICT_ID and RPTG_AMT is close to 1,\n",
    "#it indicates that certain districts are associated with higher reporting amounts."
   ]
  },
  {
   "cell_type": "markdown",
   "id": "909c53a9",
   "metadata": {},
   "source": [
    "# plan on areas of investment in terms of marketing campaigns, opening of stores according to Total Sales Amount in these Cities by order: \n",
    "\n",
    "    City:         \n",
    "        Shanghai  \n",
    "        Beijing  \n",
    "        Hangzhou \n",
    "        Shenzhen \n",
    "        Suzhou   \n",
    "        Chengdu   \n",
    "        Nanjing  \n",
    "        Wuhan     \n",
    "        Guangzhou \n",
    "        Tianjin     "
   ]
  },
  {
   "cell_type": "code",
   "execution_count": 59,
   "id": "7614b207",
   "metadata": {},
   "outputs": [],
   "source": [
    "# Group by city and district, then sum RPTG_AMT\n",
    "city_group = df.groupby(\"SHIP_TO_CITY_CD_EN\").sum()[\"RPTG_AMT\"]\n",
    "district_group = df.groupby(\"SHIP_TO_DISTRICT_NAME_EN\").sum()[\"RPTG_AMT\"]"
   ]
  },
  {
   "cell_type": "code",
   "execution_count": 60,
   "id": "82992d68",
   "metadata": {},
   "outputs": [],
   "source": [
    "# Sort values to get top 5 and bottom 5\n",
    "top_5_cities = city_group.sort_values(ascending=False).head(5)\n",
    "bottom_5_cities = city_group.sort_values(ascending=False).tail(5)"
   ]
  },
  {
   "cell_type": "code",
   "execution_count": 61,
   "id": "4f33e9da",
   "metadata": {},
   "outputs": [],
   "source": [
    "top_5_districts = district_group.sort_values(ascending=False).head(5)\n",
    "bottom_5_districts = district_group.sort_values(ascending=False).tail(5)"
   ]
  },
  {
   "cell_type": "code",
   "execution_count": 62,
   "id": "023cb943",
   "metadata": {},
   "outputs": [
    {
     "data": {
      "text/plain": [
       "(SHIP_TO_CITY_CD_EN\n",
       " Shanghai    1.059861e+08\n",
       " Beijing     8.709278e+07\n",
       " Hangzhou    5.726757e+07\n",
       " Shenzhen    5.135241e+07\n",
       " Suzhou      4.345930e+07\n",
       " Name: RPTG_AMT, dtype: float64,\n",
       " SHIP_TO_CITY_CD_EN\n",
       " Shennongjia Forest Area        14157.52\n",
       " Wuzhi Mountain                  8760.18\n",
       " Baisha Li Autonomous County     8760.18\n",
       " Ngari Prefecture                7862.32\n",
       " Kunyu                           7078.76\n",
       " Name: RPTG_AMT, dtype: float64,\n",
       " SHIP_TO_DISTRICT_NAME_EN\n",
       " Chaoyang District    31595955.07\n",
       " Pudong New Area      26685902.30\n",
       " Haidian District     18900163.42\n",
       " Dongguan city        13199379.87\n",
       " Minhang District     12838861.15\n",
       " Name: RPTG_AMT, dtype: float64,\n",
       " SHIP_TO_DISTRICT_NAME_EN\n",
       " Bomi County        1680.53\n",
       " Wuding County      1680.53\n",
       " Zhaojue County     1680.53\n",
       " Daning County      1680.53\n",
       " Wangcang County    1680.53\n",
       " Name: RPTG_AMT, dtype: float64)"
      ]
     },
     "execution_count": 62,
     "metadata": {},
     "output_type": "execute_result"
    }
   ],
   "source": [
    "top_5_cities, bottom_5_cities, top_5_districts, bottom_5_districts"
   ]
  },
  {
   "cell_type": "code",
   "execution_count": 63,
   "id": "2695f39d",
   "metadata": {},
   "outputs": [
    {
     "data": {
      "image/png": "[encoded data removed]",
      "text/plain": [
       "<Figure size 1008x720 with 4 Axes>"
      ]
     },
     "metadata": {
      "needs_background": "light"
     },
     "output_type": "display_data"
    }
   ],
   "source": [
    "\n",
    "# Convert ORDER_TIME_CST to datetime\n",
    "df['ORDER_TIME'] = pd.to_datetime(df['ORDER_TIME'])\n",
    "\n",
    "# Filter orders between 5:00:00 AM and 9:00:00 AM\n",
    "df_filtered = df[(df['ORDER_TIME'].dt.time >= pd.to_datetime('05:00:00 AM').time()) & \n",
    "                 (df['ORDER_TIME'].dt.time <= pd.to_datetime('09:00:00 AM').time())]\n",
    "\n",
    "# Group by city and district, then sum the RPTG_AMT\n",
    "city_totals = df_filtered.groupby('SHIP_TO_CITY_CD_EN')['RPTG_AMT'].sum().reset_index()\n",
    "district_totals = df_filtered.groupby('SHIP_TO_DISTRICT_NAME_EN')['RPTG_AMT'].sum().reset_index()\n",
    "\n",
    "# Sort and get the top 5 and bottom 5 cities\n",
    "top5_cities = city_totals.nlargest(5, 'RPTG_AMT')\n",
    "bottom5_cities = city_totals.nsmallest(5, 'RPTG_AMT')\n",
    "\n",
    "# Sort and get the top 5 and bottom 5 districts\n",
    "top5_districts = district_totals.nlargest(5, 'RPTG_AMT')\n",
    "bottom5_districts = district_totals.nsmallest(5, 'RPTG_AMT')\n",
    "\n",
    "# Plotting\n",
    "fig, axes = plt.subplots(2, 2, figsize=(14, 10))\n",
    "\n",
    "# Top 5 Cities\n",
    "axes[0, 0].bar(top5_cities['SHIP_TO_CITY_CD_EN'], top5_cities['RPTG_AMT'], color='green')\n",
    "axes[0, 0].set_title('Top 5 Cities by Total RPTG_AMT')\n",
    "axes[0, 0].set_xlabel('City')\n",
    "axes[0, 0].set_ylabel('Total RPTG_AMT')\n",
    "\n",
    "# Bottom 5 Cities\n",
    "axes[0, 1].bar(bottom5_cities['SHIP_TO_CITY_CD_EN'], bottom5_cities['RPTG_AMT'], color='red')\n",
    "axes[0, 1].set_title('Bottom 5 Cities by Total RPTG_AMT')\n",
    "axes[0, 1].set_xlabel('City')\n",
    "axes[0, 1].set_ylabel('Total RPTG_AMT')\n",
    "\n",
    "# Top 5 Districts\n",
    "axes[1, 0].bar(top5_districts['SHIP_TO_DISTRICT_NAME_EN'], top5_districts['RPTG_AMT'], color='blue')\n",
    "axes[1, 0].set_title('Top 5 Districts by Total RPTG_AMT')\n",
    "axes[1, 0].set_xlabel('District')\n",
    "axes[1, 0].set_ylabel('Total RPTG_AMT')\n",
    "\n",
    "# Bottom 5 Districts\n",
    "axes[1, 1].bar(bottom5_districts['SHIP_TO_DISTRICT_NAME_EN'], bottom5_districts['RPTG_AMT'], color='orange')\n",
    "axes[1, 1].set_title('Bottom 5 Districts by Total RPTG_AMT')\n",
    "axes[1, 1].set_xlabel('District')\n",
    "axes[1, 1].set_ylabel('Total RPTG_AMT')\n",
    "\n",
    "plt.tight_layout()\n",
    "plt.show()\n"
   ]
  },
  {
   "cell_type": "code",
   "execution_count": 64,
   "id": "7a8bb324",
   "metadata": {},
   "outputs": [
    {
     "data": {
      "image/png": "[encoded data removed]",
      "text/plain": [
       "<Figure size 1008x720 with 4 Axes>"
      ]
     },
     "metadata": {
      "needs_background": "light"
     },
     "output_type": "display_data"
    }
   ],
   "source": [
    "# Convert ORDER_TIME_CST to datetime\n",
    "df['ORDER_TIME'] = pd.to_datetime(df['ORDER_TIME'])\n",
    "\n",
    "# Filter orders between 5:00:00 AM and 9:00:00 AM\n",
    "df_filtered = df[(df['ORDER_TIME'].dt.time >= pd.to_datetime('12:00:00 PM').time()) & \n",
    "                 (df['ORDER_TIME'].dt.time <= pd.to_datetime('03:00:00 PM').time())]\n",
    "\n",
    "# Group by city and district, then sum the RPTG_AMT\n",
    "city_totals = df_filtered.groupby('SHIP_TO_CITY_CD_EN')['RPTG_AMT'].sum().reset_index()\n",
    "district_totals = df_filtered.groupby('SHIP_TO_DISTRICT_NAME_EN')['RPTG_AMT'].sum().reset_index()\n",
    "\n",
    "# Sort and get the top 5 and bottom 5 cities\n",
    "top5_cities = city_totals.nlargest(5, 'RPTG_AMT')\n",
    "bottom5_cities = city_totals.nsmallest(5, 'RPTG_AMT')\n",
    "\n",
    "# Sort and get the top 5 and bottom 5 districts\n",
    "top5_districts = district_totals.nlargest(5, 'RPTG_AMT')\n",
    "bottom5_districts = district_totals.nsmallest(5, 'RPTG_AMT')\n",
    "\n",
    "# Plotting\n",
    "fig, axes = plt.subplots(2, 2, figsize=(14, 10))\n",
    "\n",
    "# Top 5 Cities\n",
    "axes[0, 0].bar(top5_cities['SHIP_TO_CITY_CD_EN'], top5_cities['RPTG_AMT'], color='green')\n",
    "axes[0, 0].set_title('Top 5 Cities by Total RPTG_AMT')\n",
    "axes[0, 0].set_xlabel('City')\n",
    "axes[0, 0].set_ylabel('Total RPTG_AMT')\n",
    "\n",
    "# Bottom 5 Cities\n",
    "axes[0, 1].bar(bottom5_cities['SHIP_TO_CITY_CD_EN'], bottom5_cities['RPTG_AMT'], color='red')\n",
    "axes[0, 1].set_title('Bottom 5 Cities by Total RPTG_AMT')\n",
    "axes[0, 1].set_xlabel('City')\n",
    "axes[0, 1].set_ylabel('Total RPTG_AMT')\n",
    "\n",
    "# Top 5 Districts\n",
    "axes[1, 0].bar(top5_districts['SHIP_TO_DISTRICT_NAME_EN'], top5_districts['RPTG_AMT'], color='blue')\n",
    "axes[1, 0].set_title('Top 5 Districts by Total RPTG_AMT')\n",
    "axes[1, 0].set_xlabel('District')\n",
    "axes[1, 0].set_ylabel('Total RPTG_AMT')\n",
    "\n",
    "# Bottom 5 Districts\n",
    "axes[1, 1].bar(bottom5_districts['SHIP_TO_DISTRICT_NAME_EN'], bottom5_districts['RPTG_AMT'], color='orange')\n",
    "axes[1, 1].set_title('Bottom 5 Districts by Total RPTG_AMT')\n",
    "axes[1, 1].set_xlabel('District')\n",
    "axes[1, 1].set_ylabel('Total RPTG_AMT')\n",
    "\n",
    "plt.tight_layout()\n",
    "plt.show()"
   ]
  },
  {
   "cell_type": "code",
   "execution_count": 65,
   "id": "2ff72ee4",
   "metadata": {},
   "outputs": [
    {
     "data": {
      "image/png": "[encoded data removed]",
      "text/plain": [
       "<Figure size 1008x360 with 2 Axes>"
      ]
     },
     "metadata": {
      "needs_background": "light"
     },
     "output_type": "display_data"
    }
   ],
   "source": [
    "# Convert ORDER_TIME_CST to datetime\n",
    "df['ORDER_TIME'] = pd.to_datetime(df['ORDER_TIME'])\n",
    "\n",
    "# Define morning and afternoon session time ranges\n",
    "morning_start = pd.to_datetime('05:00:00').time()\n",
    "morning_end = pd.to_datetime('12:00:00').time()\n",
    "afternoon_start = pd.to_datetime('12:00:01').time()\n",
    "afternoon_end = pd.to_datetime('19:00:00').time()\n",
    "\n",
    "# Filter orders for morning and afternoon sessions\n",
    "morning_df = df[(df['ORDER_TIME'].dt.time >= morning_start) & \n",
    "                (df['ORDER_TIME'].dt.time <= morning_end)]\n",
    "\n",
    "afternoon_df = df[(df['ORDER_TIME'].dt.time >= afternoon_start) & \n",
    "                  (df['ORDER_TIME'].dt.time <= afternoon_end)]\n",
    "\n",
    "# Function to calculate the variance between top two sales\n",
    "def calculate_top_two_variance(grouped_df):\n",
    "    top_two = grouped_df.nlargest(2, 'RPTG_AMT')\n",
    "    if len(top_two) < 2:\n",
    "        return 0\n",
    "    return top_two.iloc[0]['RPTG_AMT'] - top_two.iloc[1]['RPTG_AMT']\n",
    "\n",
    "# Group by city and district and calculate the variance for morning and afternoon sessions\n",
    "city_variance_morning = morning_df.groupby('SHIP_TO_CITY_CD_EN')['RPTG_AMT'].sum().reset_index()\n",
    "city_variance_afternoon = afternoon_df.groupby('SHIP_TO_CITY_CD_EN')['RPTG_AMT'].sum().reset_index()\n",
    "district_variance_morning = morning_df.groupby('SHIP_TO_DISTRICT_NAME_EN')['RPTG_AMT'].sum().reset_index()\n",
    "district_variance_afternoon = afternoon_df.groupby('SHIP_TO_DISTRICT_NAME_EN')['RPTG_AMT'].sum().reset_index()\n",
    "\n",
    "city_top_two_variance_morning = calculate_top_two_variance(city_variance_morning)\n",
    "city_top_two_variance_afternoon = calculate_top_two_variance(city_variance_afternoon)\n",
    "district_top_two_variance_morning = calculate_top_two_variance(district_variance_morning)\n",
    "district_top_two_variance_afternoon = calculate_top_two_variance(district_variance_afternoon)\n",
    "\n",
    "# Plotting\n",
    "fig, axes = plt.subplots(1, 2, figsize=(14, 5))\n",
    "\n",
    "# City Variance\n",
    "axes[0].bar(['Morning', 'Afternoon'], [city_top_two_variance_morning, city_top_two_variance_afternoon], color=['blue', 'orange'])\n",
    "axes[0].set_title('City Sales Variance Between Top Two')\n",
    "axes[0].set_ylabel('Variance in RPTG_AMT')\n",
    "\n",
    "# District Variance\n",
    "axes[1].bar(['Morning', 'Afternoon'], [district_top_two_variance_morning, district_top_two_variance_afternoon], color=['blue', 'orange'])\n",
    "axes[1].set_title('District Sales Variance Between Top Two')\n",
    "axes[1].set_ylabel('Variance in RPTG_AMT')\n",
    "\n",
    "plt.tight_layout()\n",
    "plt.show()\n"
   ]
  },
  {
   "cell_type": "code",
   "execution_count": 72,
   "id": "c50ecca2",
   "metadata": {},
   "outputs": [
    {
     "data": {
      "image/png": "[encoded data removed]",
      "text/plain": [
       "<Figure size 864x576 with 2 Axes>"
      ]
     },
     "metadata": {
      "needs_background": "light"
     },
     "output_type": "display_data"
    }
   ],
   "source": [
    "# Aggregate total RPTG_AMT by city and district\n",
    "agg_df = df.groupby(['SHIP_TO_CITY_CD_EN', 'SHIP_TO_DISTRICT_NAME_EN'])['RPTG_AMT'].sum().unstack(fill_value=0)\n",
    "\n",
    "# Plotting the heatmap\n",
    "plt.figure(figsize=(12, 8))\n",
    "sns.heatmap(agg_df, annot=True, fmt=\".2f\", cmap=\"YlGnBu\", linewidths=.5)\n",
    "plt.title('Heatmap of Sales by Cities and Districts')\n",
    "plt.xlabel('District')\n",
    "plt.ylabel('City')\n",
    "plt.show()\n"
   ]
  },
  {
   "cell_type": "code",
   "execution_count": null,
   "id": "d76e2121",
   "metadata": {},
   "outputs": [],
   "source": []
  }
 ],
 "metadata": {
  "kernelspec": {
   "display_name": "Python 3 (ipykernel)",
   "language": "python",
   "name": "python3"
  },
  "language_info": {
   "codemirror_mode": {
    "name": "ipython",
    "version": 3
   },
   "file_extension": ".py",
   "mimetype": "text/x-python",
   "name": "python",
   "nbconvert_exporter": "python",
   "pygments_lexer": "ipython3",
   "version": "3.9.7"
  }
 },
 "nbformat": 4,
 "nbformat_minor": 5
}
